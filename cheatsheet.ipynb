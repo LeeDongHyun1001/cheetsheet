{
  "nbformat": 4,
  "nbformat_minor": 0,
  "metadata": {
    "colab": {
      "provenance": [],
      "gpuType": "T4",
      "mount_file_id": "1fYg43n3OkCOzdXhAHMexW0vSkHYeEyxP",
      "authorship_tag": "ABX9TyN66cSBdtZFeudyPGkLiNjk",
      "include_colab_link": true
    },
    "kernelspec": {
      "name": "python3",
      "display_name": "Python 3"
    },
    "language_info": {
      "name": "python"
    },
    "accelerator": "GPU"
  },
  "cells": [
    {
      "cell_type": "markdown",
      "metadata": {
        "id": "view-in-github",
        "colab_type": "text"
      },
      "source": [
        "<a href=\"https://colab.research.google.com/github/LeeDongHyun1001/cheetsheet/blob/main/cheatsheet.ipynb\" target=\"_parent\"><img src=\"https://colab.research.google.com/assets/colab-badge.svg\" alt=\"Open In Colab\"/></a>"
      ]
    },
    {
      "cell_type": "markdown",
      "source": [
        "# PyTorch란?\n",
        "\n",
        "*  tensorflow는 연산 그래프를 먼저 만들고 실제 연산할 때 값을 전달하여 결과를 얻는'Define and Run'방식\n",
        "\n",
        "*   파이토치는 그래프를 만들과 동시에 값이 할당되는 'Define by Run'방식\n",
        "\n",
        "둘 다 해야하고 최근에 Jax도 등장함\n",
        "\n"
      ],
      "metadata": {
        "id": "5iy7DtrSM8ja"
      }
    },
    {
      "cell_type": "code",
      "source": [
        "import numpy as np\n",
        "import torch"
      ],
      "metadata": {
        "id": "hdGKn7GkNvKP"
      },
      "execution_count": null,
      "outputs": []
    },
    {
      "cell_type": "markdown",
      "source": [
        "# 영행렬\n",
        "0으로 채워진 5x2 텐서(행렬)만들기\n",
        "\n",
        "파이토치의 기본 데이터 타입은 32비트 부동소수점"
      ],
      "metadata": {
        "id": "BSSwVpaFN4yg"
      }
    },
    {
      "cell_type": "code",
      "source": [
        "z = torch.zeros(5,3)\n",
        "print(z)\n",
        "print(z.dtype)"
      ],
      "metadata": {
        "colab": {
          "base_uri": "https://localhost:8080/"
        },
        "id": "sWofJ9hSLa9V",
        "outputId": "60e12504-64b0-43ce-acac-58cde436cf87"
      },
      "execution_count": null,
      "outputs": [
        {
          "output_type": "stream",
          "name": "stdout",
          "text": [
            "tensor([[0., 0., 0.],\n",
            "        [0., 0., 0.],\n",
            "        [0., 0., 0.],\n",
            "        [0., 0., 0.],\n",
            "        [0., 0., 0.]])\n",
            "torch.float32\n"
          ]
        }
      ]
    },
    {
      "cell_type": "code",
      "source": [
        "print(torch.randn(10)) # 평균 0인 숫자 (10)개 만들기\n",
        "print(torch.rand(5,3)) # 0~1 숫자로 5x3행렬\n",
        "print(torch.randperm(10)) # 0~10까지 정수 무작위\n",
        "print(torch.randint(low=0, high=10, size=(2,4)))\n",
        "print(torch.empty((4,3))) # 4x3사이즈의 빈 텐서\n",
        "print(torch.empty(4).size())\n",
        "print(torch.eye(3)) # 대각선 1 나머지 0\n",
        "print(torch.eye(5,3))"
      ],
      "metadata": {
        "colab": {
          "base_uri": "https://localhost:8080/"
        },
        "id": "AydIGqUfOCUJ",
        "outputId": "7940b51b-3ffb-466d-d743-9d9bca9176ae"
      },
      "execution_count": null,
      "outputs": [
        {
          "output_type": "stream",
          "name": "stdout",
          "text": [
            "tensor([-0.4835,  0.6831, -0.0048,  1.7082,  1.1403, -1.2579,  0.2983, -1.0062,\n",
            "         0.2334, -0.6137])\n",
            "tensor([[0.3280, 0.5546, 0.6437],\n",
            "        [0.6709, 0.2887, 0.3544],\n",
            "        [0.3579, 0.3395, 0.1766],\n",
            "        [0.2843, 0.3597, 0.7207],\n",
            "        [0.3541, 0.9756, 0.1458]])\n",
            "tensor([2, 9, 3, 0, 7, 6, 4, 8, 5, 1])\n",
            "tensor([[3, 5, 3, 8],\n",
            "        [1, 8, 6, 9]])\n",
            "tensor([[-2.1356e-30,  3.3186e-41, -2.4868e-30],\n",
            "        [ 3.3186e-41,  7.2708e+31,  5.0778e+31],\n",
            "        [ 3.2608e-12,  1.7728e+28,  7.0367e+22],\n",
            "        [ 2.1715e-18,  1.0871e-05,  1.6502e-07]])\n",
            "torch.Size([4])\n",
            "tensor([[1., 0., 0.],\n",
            "        [0., 1., 0.],\n",
            "        [0., 0., 1.]])\n",
            "tensor([[1., 0., 0.],\n",
            "        [0., 1., 0.],\n",
            "        [0., 0., 1.],\n",
            "        [0., 0., 0.],\n",
            "        [0., 0., 0.]])\n"
          ]
        }
      ]
    },
    {
      "cell_type": "markdown",
      "source": [
        "# 1로 꽉찬 행렬과 dtype\n",
        "ones((행렬), dtype=torch.타입지정)"
      ],
      "metadata": {
        "id": "l-YqytDOORuT"
      }
    },
    {
      "cell_type": "code",
      "source": [
        "i = torch.ones((5,3), dtype=torch.int16)\n",
        "print(i)"
      ],
      "metadata": {
        "colab": {
          "base_uri": "https://localhost:8080/"
        },
        "id": "JBKwthtNPLvS",
        "outputId": "377cc9e0-13e8-4039-e741-9c9a641d768e"
      },
      "execution_count": null,
      "outputs": [
        {
          "output_type": "stream",
          "name": "stdout",
          "text": [
            "tensor([[1, 1, 1],\n",
            "        [1, 1, 1],\n",
            "        [1, 1, 1],\n",
            "        [1, 1, 1],\n",
            "        [1, 1, 1]], dtype=torch.int16)\n"
          ]
        }
      ]
    },
    {
      "cell_type": "markdown",
      "source": [
        "seed를 통해 원하는 무작위값을 유도할 수 있음"
      ],
      "metadata": {
        "id": "EAVWwEqfPUex"
      }
    },
    {
      "cell_type": "code",
      "source": [
        "torch.manual_seed(1729)\n",
        "r=torch.rand(2,2)\n",
        "print('seed : ', r)\n",
        "print('no seed : ', torch.rand(2,2))\n",
        "print('seed : ', r)"
      ],
      "metadata": {
        "colab": {
          "base_uri": "https://localhost:8080/"
        },
        "id": "2Q5ds0kkPs5S",
        "outputId": "1932b015-30a8-4457-8250-df28aa3a8d80"
      },
      "execution_count": null,
      "outputs": [
        {
          "output_type": "stream",
          "name": "stdout",
          "text": [
            "seed :  tensor([[0.3126, 0.3791],\n",
            "        [0.3087, 0.0736]])\n",
            "no seed :  tensor([[0.4216, 0.0691],\n",
            "        [0.2332, 0.4047]])\n",
            "seed :  tensor([[0.3126, 0.3791],\n",
            "        [0.3087, 0.0736]])\n"
          ]
        }
      ]
    },
    {
      "cell_type": "markdown",
      "source": [
        "manual_seed만 지정하면 재현이 안됨 (변화가능)\n",
        "\n",
        "#시드 고정 코드"
      ],
      "metadata": {
        "id": "dAzMWYNcPz1V"
      }
    },
    {
      "cell_type": "code",
      "source": [
        "import random\n",
        "\n",
        "random_seed = 1729\n",
        "torch.manual_seed(random_seed)\n",
        "torch.cuda.manual_seed(random_seed)\n",
        "torch.backends.cudnn.deterministic=True\n",
        "torch.backends.cudnn.benchmark=False\n",
        "np.random.seed(random_seed)\n",
        "random.seed(random_seed)"
      ],
      "metadata": {
        "id": "zh-bGCuaQx_U"
      },
      "execution_count": null,
      "outputs": []
    },
    {
      "cell_type": "markdown",
      "source": [
        "# 3차원 이상의 행렬을 만들고 크기 확인"
      ],
      "metadata": {
        "id": "5hK-wrSOgUu1"
      }
    },
    {
      "cell_type": "code",
      "source": [
        "z = torch.zeros(5,3,4)\n",
        "print(z.shape)\n",
        "print(z.size())"
      ],
      "metadata": {
        "colab": {
          "base_uri": "https://localhost:8080/"
        },
        "id": "BOl8cZEEgZ3r",
        "outputId": "3a5014bf-06bf-4915-cd85-33b7b565235b"
      },
      "execution_count": null,
      "outputs": [
        {
          "output_type": "stream",
          "name": "stdout",
          "text": [
            "torch.Size([5, 3, 4])\n",
            "torch.Size([5, 3, 4])\n"
          ]
        }
      ]
    },
    {
      "cell_type": "markdown",
      "source": [
        "# Type casting"
      ],
      "metadata": {
        "id": "H7f6_cEOgfAG"
      }
    },
    {
      "cell_type": "code",
      "source": [
        "# 리스트를 텐서로 바꾸기\n",
        "torch.tensor([[1.,-1.], [1.,-1.]])"
      ],
      "metadata": {
        "colab": {
          "base_uri": "https://localhost:8080/"
        },
        "id": "xlj2seUEgqVt",
        "outputId": "4da245e6-dcf3-47d9-a61d-33cfa2480f89"
      },
      "execution_count": null,
      "outputs": [
        {
          "output_type": "execute_result",
          "data": {
            "text/plain": [
              "tensor([[ 1., -1.],\n",
              "        [ 1., -1.]])"
            ]
          },
          "metadata": {},
          "execution_count": 29
        }
      ]
    },
    {
      "cell_type": "code",
      "source": [
        "# 뒤에 dtype으로 변환가능\n",
        "x = torch.tensor([[1, -1], [1, -1]], dtype = torch.float32)\n",
        "print(x)"
      ],
      "metadata": {
        "colab": {
          "base_uri": "https://localhost:8080/"
        },
        "id": "6YDDjp0gg0pL",
        "outputId": "771e9fed-bb76-46b8-9fd4-8ccc7249fe97"
      },
      "execution_count": null,
      "outputs": [
        {
          "output_type": "stream",
          "name": "stdout",
          "text": [
            "tensor([[ 1., -1.],\n",
            "        [ 1., -1.]])\n"
          ]
        }
      ]
    },
    {
      "cell_type": "code",
      "source": [
        "# np도 tensor변환 가능\n",
        "np_array = np.array([[1,2,3], [4,5,6]])\n",
        "x = torch.tensor(np_array, dtype=torch.float32)\n",
        "print(x)"
      ],
      "metadata": {
        "colab": {
          "base_uri": "https://localhost:8080/"
        },
        "id": "K2h8aO8rhGTv",
        "outputId": "cb057d16-0f53-4ee7-d4b1-8aa2fbd24a18"
      },
      "execution_count": null,
      "outputs": [
        {
          "output_type": "stream",
          "name": "stdout",
          "text": [
            "tensor([[1., 2., 3.],\n",
            "        [4., 5., 6.]])\n"
          ]
        }
      ]
    },
    {
      "cell_type": "markdown",
      "source": [
        "# 대소 비교하기"
      ],
      "metadata": {
        "id": "_Oa0pr0Ihk5B"
      }
    },
    {
      "cell_type": "code",
      "source": [
        "a = torch.tensor([[2,5], [4,3]])\n",
        "b = torch.tensor([[2,8], [2,3]])\n",
        "\n",
        "print(torch.ne(a,b)) # 같음 부정\n",
        "print(torch.eq(a,b)) # 같음\n",
        "print(torch.le(a,b)) # 작은거\n",
        "print(torch.ge(a,b)) # 큰거\n",
        "\n",
        "print(torch.equal(a,b)) # 전체값을 비교해서 True, False 둘 중 하나값만 리턴"
      ],
      "metadata": {
        "colab": {
          "base_uri": "https://localhost:8080/"
        },
        "id": "vShSXpgRimcZ",
        "outputId": "27207355-489a-4f8c-a8b4-a9b82737249e"
      },
      "execution_count": null,
      "outputs": [
        {
          "output_type": "stream",
          "name": "stdout",
          "text": [
            "tensor([[False,  True],\n",
            "        [ True, False]])\n",
            "tensor([[ True, False],\n",
            "        [False,  True]])\n",
            "tensor([[ True,  True],\n",
            "        [False,  True]])\n",
            "tensor([[ True, False],\n",
            "        [ True,  True]])\n",
            "False\n"
          ]
        }
      ]
    },
    {
      "cell_type": "markdown",
      "source": [
        "일정 소수점 이하는 같다는 규칙 만들기"
      ],
      "metadata": {
        "id": "1T8DEIDTjvHV"
      }
    },
    {
      "cell_type": "code",
      "source": [
        "print(torch.allclose(torch.tensor([10000., 1e-07]), torch.tensor([10000.1, 1e-08])))\n",
        "print(torch.allclose(torch.tensor([10000., 1e-08]), torch.tensor([10000.1, 1e-09])))\n",
        "print(torch.allclose(torch.tensor([1.0, float('nan')]), torch.tensor([1.0, float('nan')])))\n",
        "print(torch.allclose(torch.tensor([1.0, float('nan')]), torch.tensor([1.0, float('nan')]), equal_nan=True))"
      ],
      "metadata": {
        "colab": {
          "base_uri": "https://localhost:8080/"
        },
        "id": "Max-LBJKi5tK",
        "outputId": "d55e7561-5270-4156-a931-9d6bfc5df53e"
      },
      "execution_count": null,
      "outputs": [
        {
          "output_type": "stream",
          "name": "stdout",
          "text": [
            "False\n",
            "True\n",
            "False\n",
            "True\n"
          ]
        }
      ]
    },
    {
      "cell_type": "markdown",
      "source": [
        "# 복사하기 Copy Tensor\n",
        "\n",
        "\n",
        "*   clone : 메모리를 새롭게 할당, 계산그래프에 계속 상주\n",
        "*   detach: 메모리를 공유, 계산그래프에서 뺌, 단 storage를 공유하기에 detach로 생성한 Tensor가 변경되면 원본 Tensor도 똑같이 변환\n",
        "\n"
      ],
      "metadata": {
        "id": "Ug0iE1LUjJX1"
      }
    },
    {
      "cell_type": "code",
      "source": [
        "x = torch.rand(size=(3,3))\n",
        "print(x)\n",
        "\n",
        "y = x.clone().detach()\n",
        "print(torch.equal(x,y))\n",
        "\n",
        "y = x.detach().clone() # 이게 좀 더 효율적\n",
        "print(torch.equal(x,y))"
      ],
      "metadata": {
        "colab": {
          "base_uri": "https://localhost:8080/"
        },
        "id": "rG-sTRZvkr5g",
        "outputId": "7293a7de-e742-46d5-be2f-aeb5147c7d5b"
      },
      "execution_count": null,
      "outputs": [
        {
          "output_type": "stream",
          "name": "stdout",
          "text": [
            "tensor([[0.0936, 0.0243, 0.7260],\n",
            "        [0.1272, 0.2228, 0.9738],\n",
            "        [0.6903, 0.8095, 0.8368]])\n",
            "True\n",
            "True\n"
          ]
        }
      ]
    },
    {
      "cell_type": "code",
      "source": [
        "# deepcopy를 쓸 수 있는데... 위 방법 추천\n",
        "\n",
        "import copy\n",
        "x=torch.ones(10,requires_grad=True)\n",
        "x_deepcopy = copy.deepcopy(x)\n",
        "print(x,'x')\n",
        "print(x_deepcopy,'x_deepcopy')"
      ],
      "metadata": {
        "colab": {
          "base_uri": "https://localhost:8080/"
        },
        "id": "2JaiBeGvlCby",
        "outputId": "4758afb9-fe96-4a18-82f3-a4509279edc8"
      },
      "execution_count": null,
      "outputs": [
        {
          "output_type": "stream",
          "name": "stdout",
          "text": [
            "tensor([1., 1., 1., 1., 1., 1., 1., 1., 1., 1.], requires_grad=True) x\n",
            "tensor([1., 1., 1., 1., 1., 1., 1., 1., 1., 1.], requires_grad=True) x_deepcopy\n"
          ]
        }
      ]
    },
    {
      "cell_type": "markdown",
      "source": [
        "# 값을 cuda로 보내는법"
      ],
      "metadata": {
        "id": "YpO11o6WlLNp"
      }
    },
    {
      "cell_type": "code",
      "source": [
        "device = torch.device('cuda' if torch.cuda.is_available() else 'cpu')\n",
        "# 만약 컴퓨터 환경에 cuda가 가능하면 cuda아니면 cpu\n",
        "# 코랩에 cpu뜨면 런타임에서 런타임유형을 변경해줘야함\n",
        "print(device)\n"
      ],
      "metadata": {
        "colab": {
          "base_uri": "https://localhost:8080/"
        },
        "id": "hWt0TSfO6-vv",
        "outputId": "b4454c70-bc08-4e37-9b95-32b00e0f32c4"
      },
      "execution_count": null,
      "outputs": [
        {
          "output_type": "stream",
          "name": "stdout",
          "text": [
            "cuda\n"
          ]
        }
      ]
    },
    {
      "cell_type": "code",
      "source": [
        "# cuda에서 고속으로 돌리는법 to(device)\n",
        "x = torch.tensor([[1, -1], [1, -1]])\n",
        "x.to(device, dtype=torch.float32)\n",
        "# 데이터 타입 지정도 가능\n",
        "print(x)\n",
        "print(x[0][0].item())\n",
        "# cuda로 바뀐 내용 값 접근"
      ],
      "metadata": {
        "colab": {
          "base_uri": "https://localhost:8080/"
        },
        "id": "LwiAiySl7PJS",
        "outputId": "ee0b269e-9ff5-491b-d662-7940371fc815"
      },
      "execution_count": null,
      "outputs": [
        {
          "output_type": "stream",
          "name": "stdout",
          "text": [
            "tensor([[ 1, -1],\n",
            "        [ 1, -1]])\n",
            "1\n"
          ]
        }
      ]
    },
    {
      "cell_type": "markdown",
      "source": [
        "# shape, dtype, device"
      ],
      "metadata": {
        "id": "0hX3zssg85tF"
      }
    },
    {
      "cell_type": "code",
      "source": [
        "tensor = torch.rand(3,4)\n",
        "\n",
        "print(tensor.shape)\n",
        "print(tensor.dtype)\n",
        "print(tensor.device)\n",
        "print(tensor.ndim)"
      ],
      "metadata": {
        "colab": {
          "base_uri": "https://localhost:8080/"
        },
        "id": "PNYG7hrK7od0",
        "outputId": "36931392-7e51-4ce3-bcd3-e3c613f5b2a5"
      },
      "execution_count": null,
      "outputs": [
        {
          "output_type": "stream",
          "name": "stdout",
          "text": [
            "torch.Size([3, 4])\n",
            "torch.float32\n",
            "cpu\n",
            "2\n"
          ]
        }
      ]
    },
    {
      "cell_type": "markdown",
      "source": [
        "# torch.tensor 기능들\n",
        "\n",
        "\n",
        "1.   new\n",
        "2.   new_zeros\n",
        "3.   new_ones\n",
        "4.   new_full\n",
        "\n",
        "기존 tensor성질이 같은 복사본을 만들기\n"
      ],
      "metadata": {
        "id": "Ap0jeyiB9Jh3"
      }
    },
    {
      "cell_type": "code",
      "source": [
        "original_tensor = torch.tensor([[1,2], [3,4]]).to(device, dtype=torch.float32)\n",
        "# 뒤에 .to(device, dtype=torch.float32)로 디바이스, 타입지정 가능\n",
        "\n",
        "new1 = original_tensor.new(2,2)\n",
        "new_z = original_tensor.new_zeros(2,2)\n",
        "new_o = original_tensor.new_ones(2,2)\n",
        "new_f = original_tensor.new_full((2,2), fill_value=7.0)\n",
        "print(new1)\n",
        "print(new_z)\n",
        "print(new_o)\n",
        "print(new_f)"
      ],
      "metadata": {
        "colab": {
          "base_uri": "https://localhost:8080/"
        },
        "id": "pevMcNUM9rBM",
        "outputId": "6dce2020-a0a0-44ef-ed0a-333bf3ecc2fc"
      },
      "execution_count": null,
      "outputs": [
        {
          "output_type": "stream",
          "name": "stdout",
          "text": [
            "tensor([[0., 0.],\n",
            "        [0., 0.]], device='cuda:0')\n",
            "tensor([[0., 0.],\n",
            "        [0., 0.]], device='cuda:0')\n",
            "tensor([[1., 1.],\n",
            "        [1., 1.]], device='cuda:0')\n",
            "tensor([[7., 7.],\n",
            "        [7., 7.]], device='cuda:0')\n"
          ]
        }
      ]
    },
    {
      "cell_type": "code",
      "source": [
        "print(torch.arange(5))\n",
        "print(torch.arange(1,4))\n",
        "print(torch.arange(1,4,0.2)) # 슬라이싱이랑 비슷함\n",
        "\n",
        "print(torch.linspace(1,4,20)) # 1부터 4까지 20개로 자르기\n",
        "print(torch.logspace(1,4,20)) # 1부터 4까지를 로그로 표현"
      ],
      "metadata": {
        "colab": {
          "base_uri": "https://localhost:8080/"
        },
        "id": "4s5RcVbw-HOe",
        "outputId": "4f4454ef-5d03-42c6-c8fd-7253392ad350"
      },
      "execution_count": null,
      "outputs": [
        {
          "output_type": "stream",
          "name": "stdout",
          "text": [
            "tensor([0, 1, 2, 3, 4])\n",
            "tensor([1, 2, 3])\n",
            "tensor([1.0000, 1.2000, 1.4000, 1.6000, 1.8000, 2.0000, 2.2000, 2.4000, 2.6000,\n",
            "        2.8000, 3.0000, 3.2000, 3.4000, 3.6000, 3.8000])\n",
            "tensor([1.0000, 1.1579, 1.3158, 1.4737, 1.6316, 1.7895, 1.9474, 2.1053, 2.2632,\n",
            "        2.4211, 2.5789, 2.7368, 2.8947, 3.0526, 3.2105, 3.3684, 3.5263, 3.6842,\n",
            "        3.8421, 4.0000])\n",
            "tensor([   10.0000,    14.3845,    20.6914,    29.7635,    42.8133,    61.5848,\n",
            "           88.5867,   127.4275,   183.2981,   263.6651,   379.2690,   545.5594,\n",
            "          784.7599,  1128.8379,  1623.7767,  2335.7214,  3359.8184,  4832.9302,\n",
            "         6951.9277, 10000.0000])\n"
          ]
        }
      ]
    },
    {
      "cell_type": "markdown",
      "source": [
        "torch.complex로 복소수 만들기 가능\n",
        "\n",
        "# in_place = 뒤에 _가 붙은 경우\n",
        "method 뒤에 _가 있응면 in_place=True 구조와 같은 (원본자체를 바꿈)"
      ],
      "metadata": {
        "id": "TqycFNG2Sxqq"
      }
    },
    {
      "cell_type": "code",
      "source": [
        "a = torch.randn(4,4)\n",
        "print(a)\n",
        "a.fill_(3.5)\n",
        "print(a)\n",
        "a.add_(5)\n",
        "print(a)"
      ],
      "metadata": {
        "colab": {
          "base_uri": "https://localhost:8080/"
        },
        "id": "j6jiTdGNUYey",
        "outputId": "6748982a-b19f-4ff1-f36a-d6ff0339238e"
      },
      "execution_count": null,
      "outputs": [
        {
          "output_type": "stream",
          "name": "stdout",
          "text": [
            "tensor([[-0.5544, -0.0641, -2.9160, -0.5640],\n",
            "        [ 1.7505, -0.1477, -0.7784, -0.4494],\n",
            "        [-0.3397,  0.1367, -0.7055, -0.1326],\n",
            "        [ 0.3883, -0.2546, -1.0816, -1.9186]])\n",
            "tensor([[3.5000, 3.5000, 3.5000, 3.5000],\n",
            "        [3.5000, 3.5000, 3.5000, 3.5000],\n",
            "        [3.5000, 3.5000, 3.5000, 3.5000],\n",
            "        [3.5000, 3.5000, 3.5000, 3.5000]])\n",
            "tensor([[8.5000, 8.5000, 8.5000, 8.5000],\n",
            "        [8.5000, 8.5000, 8.5000, 8.5000],\n",
            "        [8.5000, 8.5000, 8.5000, 8.5000],\n",
            "        [8.5000, 8.5000, 8.5000, 8.5000]])\n"
          ]
        }
      ]
    },
    {
      "cell_type": "markdown",
      "source": [
        "contiguos -> 메모리 위치 바꾸기\n",
        "\n",
        "reshape & view: 모양을 바꿈!\n",
        "\n",
        "\n",
        "*   view : 원본 파일의 보는 방향만을 바꿈 (원본과 공유) 그리고 원본의 연속성을 보장\n",
        "*   reshape : 연속성 / 원본 / 공유  보장하지 않음. 편안함\n",
        "\n",
        "\n"
      ],
      "metadata": {
        "id": "f-j28hAiT5lY"
      }
    },
    {
      "cell_type": "code",
      "source": [
        "print('-'*30)\n",
        "x = torch.rand(2,3,4)\n",
        "print(x)\n",
        "y = x.view(2, -1) # 재정렬\n",
        "print(y)\n",
        "\n",
        "print('-'*30)\n",
        "x = torch.rand(2, 3, 4)\n",
        "x= x.reshape(2, -1)\n",
        "print(x)\n",
        "\n",
        "# view는 붙어있는 차원 떄어낼 때 쓰자. 원본을 보존! 보는 방향만 바꿈"
      ],
      "metadata": {
        "colab": {
          "base_uri": "https://localhost:8080/"
        },
        "id": "h3d5s6lZV1hr",
        "outputId": "3d045a27-a27e-4839-8d06-08883a5cbbe4"
      },
      "execution_count": null,
      "outputs": [
        {
          "output_type": "stream",
          "name": "stdout",
          "text": [
            "------------------------------\n",
            "tensor([[[0.7853, 0.0179, 0.2252, 0.6279],\n",
            "         [0.0610, 0.8700, 0.2329, 0.2329],\n",
            "         [0.0246, 0.5636, 0.2126, 0.1783]],\n",
            "\n",
            "        [[0.6934, 0.2495, 0.6208, 0.1171],\n",
            "         [0.8187, 0.7648, 0.8036, 0.8960],\n",
            "         [0.8397, 0.1312, 0.6938, 0.9058]]])\n",
            "tensor([[0.7853, 0.0179, 0.2252, 0.6279, 0.0610, 0.8700, 0.2329, 0.2329, 0.0246,\n",
            "         0.5636, 0.2126, 0.1783],\n",
            "        [0.6934, 0.2495, 0.6208, 0.1171, 0.8187, 0.7648, 0.8036, 0.8960, 0.8397,\n",
            "         0.1312, 0.6938, 0.9058]])\n",
            "------------------------------\n",
            "tensor([[0.6982, 0.0480, 0.6937, 0.8728, 0.8081, 0.2710, 0.2847, 0.8252, 0.0810,\n",
            "         0.8103, 0.7800, 0.6348],\n",
            "        [0.6839, 0.2480, 0.5424, 0.0975, 0.1986, 0.6540, 0.4594, 0.4067, 0.0373,\n",
            "         0.7956, 0.5167, 0.7404]])\n"
          ]
        }
      ]
    },
    {
      "cell_type": "code",
      "source": [
        "print(torch.zeros(3,2))"
      ],
      "metadata": {
        "colab": {
          "base_uri": "https://localhost:8080/"
        },
        "id": "h4SYJ0ZUWWTt",
        "outputId": "29405b83-e510-4fe2-954b-a6e80548bdc3"
      },
      "execution_count": null,
      "outputs": [
        {
          "output_type": "stream",
          "name": "stdout",
          "text": [
            "tensor([[0., 0.],\n",
            "        [0., 0.],\n",
            "        [0., 0.]])\n"
          ]
        }
      ]
    },
    {
      "cell_type": "markdown",
      "source": [
        "#Squuze 와 unsqueeze : 필요없는 차원 넣고 빼기\n",
        "- squeeze: 1인 차원을 없앰 반대는 늘리기"
      ],
      "metadata": {
        "id": "RT11ZpcoXTwd"
      }
    },
    {
      "cell_type": "code",
      "source": [
        "x = torch.rand(3,1,4,5)\n",
        "print(x)\n",
        "x = x.squeeze() # [3,1,4,5] -> [3,4,5]\n",
        "print(x)\n",
        "\n",
        "# 중요!\n",
        "# batch가 1인 경우 batch차원을 없애버리는 상황이 생기니 주의\n",
        "# torch의 데이터는 batch * channel * h * w\n",
        "\n",
        "x2 = torch.rand(1, 1, 20 ,128)\n",
        "x2 = x2.squeeze(dim=1) #[1,1,20,128] -> [1,20,128] dim으로 차원 명시"
      ],
      "metadata": {
        "colab": {
          "base_uri": "https://localhost:8080/"
        },
        "id": "E_F8qHdkXwSg",
        "outputId": "f6739ac9-fd13-4d05-95f1-6fe117524eaa"
      },
      "execution_count": null,
      "outputs": [
        {
          "output_type": "stream",
          "name": "stdout",
          "text": [
            "tensor([[[[0.5329, 0.5135, 0.5428, 0.0301, 0.0614],\n",
            "          [0.8203, 0.2945, 0.9374, 0.0337, 0.5176],\n",
            "          [0.9069, 0.8457, 0.0866, 0.1962, 0.8290],\n",
            "          [0.6929, 0.2342, 0.0054, 0.7663, 0.7962]]],\n",
            "\n",
            "\n",
            "        [[[0.1695, 0.8858, 0.1450, 0.0632, 0.7355],\n",
            "          [0.9406, 0.4272, 0.0349, 0.3174, 0.7431],\n",
            "          [0.1082, 0.9552, 0.8298, 0.8335, 0.7731],\n",
            "          [0.7202, 0.9141, 0.0873, 0.9999, 0.4017]]],\n",
            "\n",
            "\n",
            "        [[[0.9400, 0.9235, 0.4577, 0.3097, 0.8111],\n",
            "          [0.2804, 0.2439, 0.3658, 0.0621, 0.1499],\n",
            "          [0.8971, 0.1043, 0.9591, 0.3843, 0.0286],\n",
            "          [0.2378, 0.5869, 0.3084, 0.8953, 0.4429]]]])\n",
            "tensor([[[0.5329, 0.5135, 0.5428, 0.0301, 0.0614],\n",
            "         [0.8203, 0.2945, 0.9374, 0.0337, 0.5176],\n",
            "         [0.9069, 0.8457, 0.0866, 0.1962, 0.8290],\n",
            "         [0.6929, 0.2342, 0.0054, 0.7663, 0.7962]],\n",
            "\n",
            "        [[0.1695, 0.8858, 0.1450, 0.0632, 0.7355],\n",
            "         [0.9406, 0.4272, 0.0349, 0.3174, 0.7431],\n",
            "         [0.1082, 0.9552, 0.8298, 0.8335, 0.7731],\n",
            "         [0.7202, 0.9141, 0.0873, 0.9999, 0.4017]],\n",
            "\n",
            "        [[0.9400, 0.9235, 0.4577, 0.3097, 0.8111],\n",
            "         [0.2804, 0.2439, 0.3658, 0.0621, 0.1499],\n",
            "         [0.8971, 0.1043, 0.9591, 0.3843, 0.0286],\n",
            "         [0.2378, 0.5869, 0.3084, 0.8953, 0.4429]]])\n"
          ]
        }
      ]
    },
    {
      "cell_type": "code",
      "source": [
        "inputs = torch.rand(3, 100, 100)\n",
        "print(inputs.unsqueeze(1).shape) # [3,100,100] -> [3,1,100,100]"
      ],
      "metadata": {
        "colab": {
          "base_uri": "https://localhost:8080/"
        },
        "id": "V7RFvJ8OYavh",
        "outputId": "ea8abd00-c8c7-4c5a-b33d-a35e9ca14f40"
      },
      "execution_count": null,
      "outputs": [
        {
          "output_type": "stream",
          "name": "stdout",
          "text": [
            "torch.Size([3, 1, 100, 100])\n"
          ]
        }
      ]
    },
    {
      "cell_type": "markdown",
      "source": [
        "# transpose & permute\n",
        "- transpose() : 2개의 차원을 교환(swap)\n",
        "- permute() : 모든 차원의 순서를 재배치"
      ],
      "metadata": {
        "id": "mHm83vnCXzOm"
      }
    },
    {
      "cell_type": "code",
      "source": [
        "x = torch.rand(3,3,3)\n",
        "print(x)\n",
        "y = x.transpose(0,2)  # 0 - 2 차원변경\n",
        "print(y)\n",
        "z = x.permute(2, 1, 0) # 0->2, 1->1, 2->0 으로 변경\n",
        "print(z)\n",
        "#permute(1,0,2).configuous() 조합을 많이 씀!\n",
        "# transpose(0,2) = 병. 을 .갑\n",
        "# permute(2,1,0) = 병, 을 ,갑"
      ],
      "metadata": {
        "colab": {
          "base_uri": "https://localhost:8080/"
        },
        "id": "WYlRwQqif7F7",
        "outputId": "ea533d81-3240-42d2-f957-61485f54dd2a"
      },
      "execution_count": null,
      "outputs": [
        {
          "output_type": "stream",
          "name": "stdout",
          "text": [
            "tensor([[[0.4942, 0.2569, 0.6219],\n",
            "         [0.1360, 0.4766, 0.6073],\n",
            "         [0.6636, 0.8423, 0.4944]],\n",
            "\n",
            "        [[0.8676, 0.1202, 0.7852],\n",
            "         [0.6362, 0.6366, 0.2035],\n",
            "         [0.0965, 0.5505, 0.3267]],\n",
            "\n",
            "        [[0.5237, 0.0627, 0.4160],\n",
            "         [0.1569, 0.7420, 0.5694],\n",
            "         [0.9318, 0.3625, 0.2231]]])\n",
            "tensor([[[0.4942, 0.8676, 0.5237],\n",
            "         [0.1360, 0.6362, 0.1569],\n",
            "         [0.6636, 0.0965, 0.9318]],\n",
            "\n",
            "        [[0.2569, 0.1202, 0.0627],\n",
            "         [0.4766, 0.6366, 0.7420],\n",
            "         [0.8423, 0.5505, 0.3625]],\n",
            "\n",
            "        [[0.6219, 0.7852, 0.4160],\n",
            "         [0.6073, 0.2035, 0.5694],\n",
            "         [0.4944, 0.3267, 0.2231]]])\n",
            "tensor([[[0.4942, 0.8676, 0.5237],\n",
            "         [0.1360, 0.6362, 0.1569],\n",
            "         [0.6636, 0.0965, 0.9318]],\n",
            "\n",
            "        [[0.2569, 0.1202, 0.0627],\n",
            "         [0.4766, 0.6366, 0.7420],\n",
            "         [0.8423, 0.5505, 0.3625]],\n",
            "\n",
            "        [[0.6219, 0.7852, 0.4160],\n",
            "         [0.6073, 0.2035, 0.5694],\n",
            "         [0.4944, 0.3267, 0.2231]]])\n"
          ]
        }
      ]
    },
    {
      "cell_type": "markdown",
      "source": [
        "# 자주쓰는 함수들"
      ],
      "metadata": {
        "id": "N1TVnLKQgCNr"
      }
    },
    {
      "cell_type": "code",
      "source": [
        "r = (torch.rand(2,2) - 0.5) * 2  # -1과 1사이의 값을 가진다\n",
        "print(r)\n",
        "\n",
        "#삼각함수 사용가능\n",
        "print(torch.asin(r))\n",
        "\n",
        "# 평균 및 표준쳔차 / 최댓값\n",
        "print(torch.std_mean(r))\n",
        "print(torch.max(r))"
      ],
      "metadata": {
        "colab": {
          "base_uri": "https://localhost:8080/"
        },
        "id": "AmRezfcvhKtB",
        "outputId": "d94aa8bf-13f1-4c3d-93b1-d3c6d847523f"
      },
      "execution_count": null,
      "outputs": [
        {
          "output_type": "stream",
          "name": "stdout",
          "text": [
            "tensor([[-0.6208, -0.1549],\n",
            "        [ 0.5931, -0.6849]])\n",
            "tensor([[-0.6697, -0.1555],\n",
            "        [ 0.6349, -0.7545]])\n",
            "(tensor(0.5894), tensor(-0.2169))\n",
            "tensor(0.5931)\n"
          ]
        }
      ]
    },
    {
      "cell_type": "code",
      "source": [
        "# 배열에서 최댓값 구하기\n",
        "y = torch.randint(100, (4,3,2))\n",
        "print(y)\n",
        "print(y.amax())\n",
        "print(y.amax(keepdim=True)) # 차원까지 알려줌\n",
        "print(y.argmax(dim=0))\n",
        "print(y.argwhere()) # 0이 아닌요소 체크"
      ],
      "metadata": {
        "colab": {
          "base_uri": "https://localhost:8080/"
        },
        "id": "B6oeRHjZhSkl",
        "outputId": "c6d392a6-68ab-42b9-ee12-380a982c05d5"
      },
      "execution_count": null,
      "outputs": [
        {
          "output_type": "stream",
          "name": "stdout",
          "text": [
            "tensor([[[65, 94],\n",
            "         [37, 63],\n",
            "         [19,  9]],\n",
            "\n",
            "        [[95, 19],\n",
            "         [31, 37],\n",
            "         [18, 86]],\n",
            "\n",
            "        [[81, 26],\n",
            "         [19, 76],\n",
            "         [ 9, 80]],\n",
            "\n",
            "        [[69, 36],\n",
            "         [89, 20],\n",
            "         [44, 40]]])\n",
            "tensor(95)\n",
            "tensor([[[95]]])\n",
            "tensor([[1, 0],\n",
            "        [3, 2],\n",
            "        [3, 1]])\n",
            "tensor([[0, 0, 0],\n",
            "        [0, 0, 1],\n",
            "        [0, 1, 0],\n",
            "        [0, 1, 1],\n",
            "        [0, 2, 0],\n",
            "        [0, 2, 1],\n",
            "        [1, 0, 0],\n",
            "        [1, 0, 1],\n",
            "        [1, 1, 0],\n",
            "        [1, 1, 1],\n",
            "        [1, 2, 0],\n",
            "        [1, 2, 1],\n",
            "        [2, 0, 0],\n",
            "        [2, 0, 1],\n",
            "        [2, 1, 0],\n",
            "        [2, 1, 1],\n",
            "        [2, 2, 0],\n",
            "        [2, 2, 1],\n",
            "        [3, 0, 0],\n",
            "        [3, 0, 1],\n",
            "        [3, 1, 0],\n",
            "        [3, 1, 1],\n",
            "        [3, 2, 0],\n",
            "        [3, 2, 1]])\n"
          ]
        }
      ]
    },
    {
      "cell_type": "code",
      "source": [],
      "metadata": {
        "id": "xMN_28kJikiG"
      },
      "execution_count": null,
      "outputs": []
    }
  ]
}